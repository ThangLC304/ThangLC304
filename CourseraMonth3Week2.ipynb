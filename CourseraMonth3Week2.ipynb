{
  "nbformat": 4,
  "nbformat_minor": 0,
  "metadata": {
    "colab": {
      "name": "CourseraMonth3Week2.ipynb",
      "provenance": [],
      "collapsed_sections": [],
      "authorship_tag": "ABX9TyNVBl6PcPFc8GzTWgR/ea2z",
      "include_colab_link": true
    },
    "kernelspec": {
      "name": "python3",
      "display_name": "Python 3"
    },
    "language_info": {
      "name": "python"
    }
  },
  "cells": [
    {
      "cell_type": "markdown",
      "metadata": {
        "id": "view-in-github",
        "colab_type": "text"
      },
      "source": [
        "<a href=\"https://colab.research.google.com/github/ThangLC304/ThangLC304/blob/main/CourseraMonth3Week2.ipynb\" target=\"_parent\"><img src=\"https://colab.research.google.com/assets/colab-badge.svg\" alt=\"Open In Colab\"/></a>"
      ]
    },
    {
      "cell_type": "markdown",
      "metadata": {
        "id": "LBsfP7d_16_y"
      },
      "source": [
        "## Import packages"
      ]
    },
    {
      "cell_type": "code",
      "metadata": {
        "colab": {
          "base_uri": "https://localhost:8080/",
          "height": 335
        },
        "id": "7NqMiXQfj1mX",
        "outputId": "ec083c52-b7f3-4d95-b08f-f90bc0e72484"
      },
      "source": [
        "from google.colab import files\n",
        "\n",
        "import networkx as nx\n",
        "from networkx.algorithms.euler import eulerian_circuit\n",
        "from networkx.algorithms.euler import is_eulerian\n",
        "from networkx.algorithms.euler import has_eulerian_path\n",
        "from networkx.algorithms.euler import eulerian_path\n",
        "from networkx.algorithms.euler import eulerize\n",
        "\n",
        "import itertools\n",
        "from itertools import product\n",
        "from itertools import islice\n",
        "from itertools import combinations\n",
        "from more_itertools import sliced\n",
        "\n",
        "import pandas as pd\n",
        "\n",
        "import re \n",
        "\n",
        "import shutil\n",
        "\n",
        "import sys\n",
        "\n",
        "import copy\n",
        "\n",
        "import time\n",
        "\n",
        "import math\n",
        "\n",
        "import numpy as np\n",
        "\n",
        "from operator import itemgetter\n",
        "\n",
        "from functools import lru_cache\n",
        "\n",
        "import subprocess\n",
        "import pkg_resources\n",
        "\n",
        "required = {'gTTS'}\n",
        "installed = {pkg.key for pkg in pkg_resources.working_set}\n",
        "missing = required - installed\n",
        "\n",
        "if missing:\n",
        "    python = sys.executable\n",
        "    subprocess.check_call([python, '-m', 'pip', 'install', *missing], stdout=subprocess.DEVNULL)\n",
        "\n",
        "from gtts import gTTS #Import Google Text to Speech\n",
        "from IPython.display import Audio #Import Audio method from IPython's Display Class\n",
        "\n",
        "from google.colab import drive\n",
        "drive._mount('/content/drive')"
      ],
      "execution_count": 4,
      "outputs": [
        {
          "output_type": "error",
          "ename": "ValueError",
          "evalue": "ignored",
          "traceback": [
            "\u001b[0;31m---------------------------------------------------------------------------\u001b[0m",
            "\u001b[0;31mValueError\u001b[0m                                Traceback (most recent call last)",
            "\u001b[0;32m<ipython-input-4-6fc915fbd860>\u001b[0m in \u001b[0;36m<module>\u001b[0;34m()\u001b[0m\n\u001b[1;32m     49\u001b[0m \u001b[0;34m\u001b[0m\u001b[0m\n\u001b[1;32m     50\u001b[0m \u001b[0;32mfrom\u001b[0m \u001b[0mgoogle\u001b[0m\u001b[0;34m.\u001b[0m\u001b[0mcolab\u001b[0m \u001b[0;32mimport\u001b[0m \u001b[0mdrive\u001b[0m\u001b[0;34m\u001b[0m\u001b[0;34m\u001b[0m\u001b[0m\n\u001b[0;32m---> 51\u001b[0;31m \u001b[0mdrive\u001b[0m\u001b[0;34m.\u001b[0m\u001b[0m_mount\u001b[0m\u001b[0;34m(\u001b[0m\u001b[0;34m'/content/drive'\u001b[0m\u001b[0;34m)\u001b[0m\u001b[0;34m\u001b[0m\u001b[0;34m\u001b[0m\u001b[0m\n\u001b[0m",
            "\u001b[0;32m/usr/local/lib/python3.7/dist-packages/google/colab/drive.py\u001b[0m in \u001b[0;36m_mount\u001b[0;34m(mountpoint, force_remount, timeout_ms, use_metadata_server, ephemeral)\u001b[0m\n\u001b[1;32m    294\u001b[0m       \u001b[0mwrote_to_fifo\u001b[0m \u001b[0;34m=\u001b[0m \u001b[0;32mTrue\u001b[0m\u001b[0;34m\u001b[0m\u001b[0;34m\u001b[0m\u001b[0m\n\u001b[1;32m    295\u001b[0m     \u001b[0;32melif\u001b[0m \u001b[0mcase\u001b[0m \u001b[0;34m==\u001b[0m \u001b[0;36m5\u001b[0m \u001b[0;32mand\u001b[0m \u001b[0;32mnot\u001b[0m \u001b[0muse_metadata_server\u001b[0m\u001b[0;34m:\u001b[0m\u001b[0;34m\u001b[0m\u001b[0;34m\u001b[0m\u001b[0m\n\u001b[0;32m--> 296\u001b[0;31m       \u001b[0;32mraise\u001b[0m \u001b[0mValueError\u001b[0m\u001b[0;34m(\u001b[0m\u001b[0;34m'mount failed: invalid oauth code'\u001b[0m\u001b[0;34m)\u001b[0m\u001b[0;34m\u001b[0m\u001b[0;34m\u001b[0m\u001b[0m\n\u001b[0m\u001b[1;32m    297\u001b[0m     \u001b[0;32melif\u001b[0m \u001b[0mcase\u001b[0m \u001b[0;34m==\u001b[0m \u001b[0;36m6\u001b[0m\u001b[0;34m:\u001b[0m\u001b[0;34m\u001b[0m\u001b[0;34m\u001b[0m\u001b[0m\n\u001b[1;32m    298\u001b[0m       \u001b[0;31m# Terminate the DriveFS binary before killing bash.\u001b[0m\u001b[0;34m\u001b[0m\u001b[0;34m\u001b[0m\u001b[0;34m\u001b[0m\u001b[0m\n",
            "\u001b[0;31mValueError\u001b[0m: mount failed: invalid oauth code"
          ]
        }
      ]
    },
    {
      "cell_type": "markdown",
      "source": [
        "## Part 1.2: Global Alignment Problem: Find a highest-scoring alignment of two strings as defined by a scoring matrix.\n",
        "\n",
        "Input: Two strings and a scoring matrix Score.\n",
        "\n",
        "Output: An alignment of the strings whose alignment score (as defined by Score) is maximized over all alignments of the strings.\n",
        "\n",
        "To solve the Global Alignment Problem, we still must find a longest path in the alignment graph after updating the edge weights to reflect the values in the scoring matrix. Recalling that deletions correspond to vertical edges (↓), insertions correspond to horizontal edges (→), and matches/mismatches correspond to diagonal edges (↘/↘), we obtain the following recurrence for si, j, the length of a longest path from (0, 0) to (i, j):\n",
        "\n",
        "Figure\n",
        "\n",
        "<img src=\"https://bioinformaticsalgorithms.com/images/Alignment/global_alignment_recurrence_2.png\" width = 300>"
      ],
      "metadata": {
        "id": "IE8evB8oVnhf"
      }
    },
    {
      "cell_type": "markdown",
      "source": [
        "<img src=\"https://bioinformaticsalgorithms.com/images/Alignment/colored_alignment_graph.png\" width = 300>"
      ],
      "metadata": {
        "id": "zqE2rOT3WV2v"
      }
    },
    {
      "cell_type": "markdown",
      "source": [
        "### Problem 1: Solve the Global Alignment Problem.\n",
        "\n",
        "Input: Two protein strings written in the single-letter amino acid alphabet.\n",
        "\n",
        "Output: The maximum alignment score of these strings followed by an alignment achieving this maximum score. Use the BLOSUM62 scoring matrix for matches and mismatches as well as the indel penalty σ = 5.'\n",
        "\n",
        "```\n",
        "Sample Input:\n",
        "PLEASANTLY\n",
        "MEANLY\n",
        "Sample Output:\n",
        "8\n",
        "PLEASANTLY\n",
        "-MEA--N-LY\n",
        "```"
      ],
      "metadata": {
        "id": "4C97Z5TqXyfK"
      }
    },
    {
      "cell_type": "code",
      "source": [
        "filename = \"BlosumScore.txt\"\n",
        "rootpath = \"/content/drive/MyDrive/Coursera/Month3/Week2/\"\n",
        "filepath = rootpath+filename\n",
        "with open(filepath, \"r\") as file:\n",
        "  raw = file.read().splitlines()\n",
        "\n",
        "raw"
      ],
      "metadata": {
        "id": "ZP9jLfWSUL6x"
      },
      "execution_count": null,
      "outputs": []
    },
    {
      "cell_type": "code",
      "source": [
        "BlosumScoreMap = [x.split() for x in raw]\n",
        "print(BlosumScoreMap)"
      ],
      "metadata": {
        "id": "tFS1rITeX0UP"
      },
      "execution_count": null,
      "outputs": []
    },
    {
      "cell_type": "code",
      "source": [
        "BlosumScoreMapValue = [x[1:] for x in BlosumScoreMap[1:]]\n",
        "print(BlosumScoreMapValue)"
      ],
      "metadata": {
        "id": "sudlKVUXZBnO"
      },
      "execution_count": null,
      "outputs": []
    },
    {
      "cell_type": "markdown",
      "source": [
        "#### Blosum map"
      ],
      "metadata": {
        "id": "5ToaFDo6eQ4K"
      }
    },
    {
      "cell_type": "code",
      "source": [
        "df = pd.DataFrame(BlosumScoreMapValue, columns = BlosumScoreMap[0], index = BlosumScoreMap[0])\n",
        "df"
      ],
      "metadata": {
        "id": "z-fBrDaLZoQ_"
      },
      "execution_count": null,
      "outputs": []
    },
    {
      "cell_type": "code",
      "source": [
        "#Call cell value by row and col names\n",
        "target_cell = df.loc['A','A'] #[row_label, col_label]\n",
        "target_cell"
      ],
      "metadata": {
        "id": "VEKIB1BmaPTb"
      },
      "execution_count": null,
      "outputs": []
    },
    {
      "cell_type": "code",
      "source": [
        "#Call cell value by row and col index\n",
        "target_cell = df.iloc[0,0]\n",
        "target_cell"
      ],
      "metadata": {
        "id": "kGl52NyEac3c"
      },
      "execution_count": null,
      "outputs": []
    },
    {
      "cell_type": "code",
      "source": [
        "def ScoreMapGlobal(v, w, datamap):\n",
        "  scores = [[0] * (len(w)+1) for _ in range(len(v)+1)]\n",
        "  for i in range(1, len(v)+1):\n",
        "    for j in range(1, len(w)+1):\n",
        "      scores[i][j] = datamap.loc[v[i-1], w[j-1]]\n",
        "  return scores"
      ],
      "metadata": {
        "id": "rM8qPre_cCfK"
      },
      "execution_count": null,
      "outputs": []
    },
    {
      "cell_type": "code",
      "source": [
        "seq1 = \"PLEASANTLY\"\n",
        "seq2 = \"MMMMEANLY\"\n",
        "ScoreMapGlobal(seq1, seq2, df)"
      ],
      "metadata": {
        "id": "ezWls-Wb_JSb"
      },
      "execution_count": null,
      "outputs": []
    },
    {
      "cell_type": "markdown",
      "source": [
        "\n",
        "\n",
        "```\n",
        "        M   E   A   N   L   Y\n",
        "    0→ -5→-10→-15→-20→-25→-30\n",
        "    ↓ ↘   ↘                   \n",
        "P  -5  -2  -6→-11→-16→-21→-26\n",
        "    ↓ ↘   ↘   ↘       ⇘       \n",
        "L -10  -3  -5  -7→-12 -12→-17\n",
        "    ↓   ↓ ⇘       ↘       ↘   \n",
        "E -15  -8   2→ -3  -7→-12 -14\n",
        "    ↓   ↓   ↓ ⇘               \n",
        "A -20 -13  -3   6→  1→ -4→ -9\n",
        "    ↓   ↓   ↓   ↓ ↘           \n",
        "S -25 -18  -8   1   7→  2→ -3\n",
        "    ↓   ↓   ↓   ↓   ↓ ↘       \n",
        "A -30 -23 -13  -4   2   6→  1\n",
        "    ↓   ↓   ↓   ↓ ⇘     ↓ ↘   \n",
        "N -35 -28 -18  -9   2   1   4\n",
        "    ↓   ↓   ↓   ↓   ↓ ↘     ↓ \n",
        "T -40 -33 -23 -14  -3   1  -1\n",
        "    ↓   ↓   ↓   ↓   ↓ ⇘   ↘   \n",
        "L -45 -38 -28 -19  -8   1   0\n",
        "    ↓   ↓   ↓   ↓   ↓   ↓ ⇘   \n",
        "Y -50 -43 -33 -24 -13  -4   8\n",
        "```\n",
        "\n"
      ],
      "metadata": {
        "id": "ZUxdstiwBpG-"
      }
    },
    {
      "cell_type": "code",
      "source": [
        "def BackTrackWithScore(v, w):\n",
        "  Backtrack = [['0'] * (len(w)+1) for _ in range(len(v)+1)]\n",
        "  scores = [[0] * (len(w)+1) for _ in range(len(v)+1)]\n",
        "  for i in range(0, len(v)+1):\n",
        "    scores[i][0] = (-5)*i\n",
        "  for j in range(0, len(w)+1):\n",
        "    scores[0][j] = (-5)*j\n",
        "  for i in range(1, len(v)+1):\n",
        "    for j in range(1, len(w)+1):\n",
        "      # point = 0\n",
        "      # if v[i-1] == w[j-1]:\n",
        "      #   point = int(ScoreMap(v, w)[i][j])\n",
        "      #   print(i, j, point)\n",
        "      point = int(ScoreMapGlobal(v, w, df)[i][j])\n",
        "      scores[i][j] = max(scores[i-1][j] - 5, scores[i][j-1] - 5, scores[i-1][j-1] + point)\n",
        "      if scores[i][j] == (scores[i-1][j] - 5):\n",
        "        Backtrack[i][j] = '↓'\n",
        "      elif scores[i][j] == (scores[i][j-1] -5):\n",
        "        Backtrack[i][j] = '→'\n",
        "      elif scores[i][j] == (scores[i-1][j-1] + point):\n",
        "        Backtrack[i][j] = '↘'\n",
        "  return Backtrack, scores\n",
        "\n",
        "def OutputLCS(backtrack, v, w):\n",
        "  i = len(seq1)\n",
        "  j = len(seq2)\n",
        "  LCS_1 = \"\"\n",
        "  LCS_2 = \"\"\n",
        "  while i >=0 and j >= 0:\n",
        "    if (i-1) >= 0:\n",
        "      add_1 = v[i-1]\n",
        "    else:\n",
        "      if j>0: \n",
        "        add_1 = \"-\"\n",
        "      else: \n",
        "        add_1 = \"\"\n",
        "\n",
        "    if (j-1) >= 0:\n",
        "      add_2 = w[j-1]\n",
        "    else:\n",
        "      if i>0: \n",
        "        add_2 = \"-\"\n",
        "      else: \n",
        "        add_2 = \"\"\n",
        "\n",
        "    if backtrack[i][j] == \"↘\":\n",
        "      LCS_1 += add_1\n",
        "      LCS_2 += add_2\n",
        "      i -= 1\n",
        "      j -= 1\n",
        "    elif backtrack[i][j] == \"↓\":\n",
        "      LCS_2 += \"-\"\n",
        "      LCS_1 += add_1\n",
        "      i -= 1\n",
        "    elif backtrack[i][j] == \"→\":\n",
        "      LCS_2 += \"-\"\n",
        "      LCS_1 += \"-\"\n",
        "      j -= 1\n",
        "    else:\n",
        "      LCS_1 += add_1\n",
        "      LCS_2 += add_2\n",
        "      j -= 1\n",
        "      i -= 1\n",
        "  return LCS_1[::-1], LCS_2[::-1]\n",
        "\n",
        "backtrack, score = BackTrackWithScore(seq1, seq2)\n",
        "score"
      ],
      "metadata": {
        "id": "V7tCr3iX_J59"
      },
      "execution_count": null,
      "outputs": []
    },
    {
      "cell_type": "code",
      "source": [
        "backtrack"
      ],
      "metadata": {
        "id": "Voc5M6cF_KAr"
      },
      "execution_count": null,
      "outputs": []
    },
    {
      "cell_type": "code",
      "source": [
        "def display_path(v, w):\n",
        "  backtrack_input, _ = BackTrackWithScore(v, w)\n",
        "  backtrack_input = backtrack_input[1:]\n",
        "  backtrack_input = [x[1:] for x in backtrack_input]\n",
        "  output_df = pd.DataFrame(backtrack_input, index = [x for x in v], columns = [x for x in w])\n",
        "  return output_df\n",
        "\n",
        "display_path(seq1, seq2)"
      ],
      "metadata": {
        "id": "46InAg9H_KGd"
      },
      "execution_count": null,
      "outputs": []
    },
    {
      "cell_type": "code",
      "source": [
        "output_1, output_2 = OutputLCS(backtrack, seq1, seq2)\n",
        "print(score[-1][-1])\n",
        "print(output_1)\n",
        "print(output_2)\n",
        "# 8\n",
        "# PLEASANTLY\n",
        "# -MEA--N-LY"
      ],
      "metadata": {
        "id": "bV3lfPL9ZA6L"
      },
      "execution_count": null,
      "outputs": []
    },
    {
      "cell_type": "markdown",
      "source": [
        "#### Sum up the challenge"
      ],
      "metadata": {
        "id": "uxVZDN37N2Bp"
      }
    },
    {
      "cell_type": "code",
      "source": [
        "filename = \"BlosumScore.txt\"\n",
        "rootpath = \"/content/drive/MyDrive/Coursera/Month3/Week2/\"\n",
        "filepath = rootpath+filename\n",
        "with open(filepath, \"r\") as file:\n",
        "  raw = file.read().splitlines()\n",
        "\n",
        "BlosumScoreMap = [x.split() for x in raw]\n",
        "BlosumScoreMapValue = [x[1:] for x in BlosumScoreMap[1:]]\n",
        "df = pd.DataFrame(BlosumScoreMapValue, columns = BlosumScoreMap[0], index = BlosumScoreMap[0])\n",
        "\n",
        "def GlobalAlignment(seq1, seq2):\n",
        "  def ScoreMap(v, w):\n",
        "    scores = [[0] * (len(w)+1) for _ in range(len(v)+1)]\n",
        "    for i in range(1, len(v)+1):\n",
        "      for j in range(1, len(w)+1):\n",
        "        scores[i][j] = df.loc[v[i-1], w[j-1]]\n",
        "    return scores\n",
        "\n",
        "  def BackTrackWithScore(v, w, score_map):\n",
        "    Backtrack = [['0'] * (len(w)+1) for _ in range(len(v)+1)]\n",
        "    scores = [[0] * (len(w)+1) for _ in range(len(v)+1)]\n",
        "    for i in range(0, len(v)+1):\n",
        "      scores[i][0] = (-5)*i\n",
        "    for j in range(0, len(w)+1):\n",
        "      scores[0][j] = (-5)*j\n",
        "    for i in range(1, len(v)+1):\n",
        "      for j in range(1, len(w)+1):\n",
        "        # point = 0\n",
        "        # if v[i-1] == w[j-1]:\n",
        "        #   point = int(ScoreMap(v, w)[i][j])\n",
        "        #   print(i, j, point)\n",
        "        point = int(score_map[i][j])\n",
        "        scores[i][j] = max(scores[i-1][j] - 5, scores[i][j-1] - 5, scores[i-1][j-1] + point)\n",
        "        if scores[i][j] == (scores[i-1][j] - 5):\n",
        "          Backtrack[i][j] = '↓'\n",
        "        elif scores[i][j] == (scores[i][j-1] -5):\n",
        "          Backtrack[i][j] = '→'\n",
        "        elif scores[i][j] == (scores[i-1][j-1] + point):\n",
        "          Backtrack[i][j] = '↘'\n",
        "    return Backtrack, scores\n",
        "\n",
        "  def OutputLCS(backtrack, v, w):\n",
        "    i = len(seq1)\n",
        "    j = len(seq2)\n",
        "    LCS_1 = \"\"\n",
        "    LCS_2 = \"\"\n",
        "    while i >=0 and j >= 0:\n",
        "      if (i-1) >= 0:\n",
        "        add_1 = v[i-1]\n",
        "      else:\n",
        "        if j>0: \n",
        "          add_1 = \"-\"\n",
        "        else: \n",
        "          add_1 = \"\"\n",
        "\n",
        "      if (j-1) >= 0:\n",
        "        add_2 = w[j-1]\n",
        "      else:\n",
        "        if i>0: \n",
        "          add_2 = \"-\"\n",
        "        else: \n",
        "          add_2 = \"\"\n",
        "\n",
        "      if backtrack[i][j] == \"↘\":\n",
        "        LCS_1 += add_1\n",
        "        LCS_2 += add_2\n",
        "        i -= 1\n",
        "        j -= 1\n",
        "      elif backtrack[i][j] == \"↓\":\n",
        "        LCS_2 += \"-\"\n",
        "        LCS_1 += add_1\n",
        "        i -= 1\n",
        "      elif backtrack[i][j] == \"→\":\n",
        "        LCS_2 += add_2\n",
        "        LCS_1 += \"-\"\n",
        "        j -= 1\n",
        "      else:\n",
        "        LCS_1 += add_1\n",
        "        LCS_2 += add_2\n",
        "        j -= 1\n",
        "        i -= 1\n",
        "    return LCS_1[::-1], LCS_2[::-1]\n",
        "\n",
        "  def display_path(v, w, score_map):\n",
        "    backtrack_input, _ = BackTrackWithScore(v, w, score_map)\n",
        "    backtrack_input = backtrack_input[1:]\n",
        "    backtrack_input = [x[1:] for x in backtrack_input]\n",
        "    output_df = pd.DataFrame(backtrack_input, index = [x for x in v], columns = [x for x in w])\n",
        "    return output_df\n",
        "  score_map = ScoreMap(seq1, seq2)\n",
        "  print(display_path(seq1, seq2, score_map))\n",
        "  backtrack, score = BackTrackWithScore(seq1, seq2, score_map)\n",
        "  output_1, output_2 = OutputLCS(backtrack, seq1, seq2)\n",
        "  print(score[-1][-1])\n",
        "  print(output_1)\n",
        "  print(output_2)\n",
        "  return score[-1][-1], output_1, output_2\n"
      ],
      "metadata": {
        "id": "HhEmNk9Egz4o"
      },
      "execution_count": null,
      "outputs": []
    },
    {
      "cell_type": "markdown",
      "source": [
        "#### Run extradataset"
      ],
      "metadata": {
        "id": "HrGahCy3OwAz"
      }
    },
    {
      "cell_type": "code",
      "source": [
        "filename = \"extradataset_1_2_1.txt\"\n",
        "rootpath = \"/content/drive/MyDrive/Coursera/Month3/Week2/\"\n",
        "filepath = rootpath+filename\n",
        "with open(filepath, mode='r', encoding=\"utf-8-sig\") as file:\n",
        "  raw = file.read().splitlines()\n",
        "\n",
        "seq1 = raw[0]\n",
        "seq2 = raw[1]\n",
        "score_test = raw[2]\n",
        "output_1_test = raw[3]\n",
        "output_2_test = raw[4]\n",
        "\n",
        "print(seq1)\n",
        "print(seq2)\n",
        "print(score_test)\n",
        "print(output_1_test)\n",
        "print(output_2_test)"
      ],
      "metadata": {
        "id": "AQuCuGMSOlNf"
      },
      "execution_count": null,
      "outputs": []
    },
    {
      "cell_type": "code",
      "source": [
        "score, output_1, output_2 = GlobalAlignment(seq1, seq2)"
      ],
      "metadata": {
        "id": "cot48G7PQmFO"
      },
      "execution_count": null,
      "outputs": []
    },
    {
      "cell_type": "code",
      "source": [
        "if int(score) == int(score_test): print(\"Score correct\")\n",
        "else: print(\"Score incorrect\")\n",
        "if output_1 == output_1_test: print(\"Output 1 correct\")\n",
        "else: print(\"Output 1 incorrect\")\n",
        "if output_2 == output_2_test: print(\"Output 2 correct\")\n",
        "else: print(\"Output 2 incorrect\")"
      ],
      "metadata": {
        "id": "WhPUsw8YOqtq"
      },
      "execution_count": null,
      "outputs": []
    },
    {
      "cell_type": "markdown",
      "source": [
        "#### Run test dataset"
      ],
      "metadata": {
        "id": "gDXGnMuASBHv"
      }
    },
    {
      "cell_type": "code",
      "source": [
        "filename = \"dataset_247_3.txt\"\n",
        "rootpath = \"/content/drive/MyDrive/Coursera/Month3/Week2/\"\n",
        "filepath = rootpath+filename\n",
        "with open(filepath, mode='r', encoding=\"utf-8-sig\") as file:\n",
        "  raw = file.read().splitlines()\n",
        "\n",
        "seq1 = raw[0]\n",
        "seq2 = raw[1]\n",
        "\n",
        "GlobalAlignment(seq1, seq2)"
      ],
      "metadata": {
        "id": "Cbr8Rsq-RiwP"
      },
      "execution_count": null,
      "outputs": []
    },
    {
      "cell_type": "markdown",
      "source": [
        "### Problem 2: Solve the Local Alignment Problem.\n",
        "\n",
        "Input: Two protein strings written in the single-letter amino acid alphabet.\n",
        "\n",
        "Output: The maximum score of a local alignment of the strings, followed by a local alignment of these strings achieving the maximum score. Use the PAM250 scoring matrix for matches and mismatches as well as the indel penalty σ = 5."
      ],
      "metadata": {
        "id": "VWQKD3dfSsvJ"
      }
    },
    {
      "cell_type": "markdown",
      "source": [
        "```\n",
        "Sample Input:\n",
        "\n",
        "MEANLY\n",
        "PENALTY\n",
        "\n",
        "Sample Output:\n",
        "\n",
        "15\n",
        "EANL-Y\n",
        "ENALTY\n",
        "```\n",
        "\n"
      ],
      "metadata": {
        "id": "qoYBaVg6apCL"
      }
    },
    {
      "cell_type": "markdown",
      "source": [
        "#### PAM250 score map"
      ],
      "metadata": {
        "id": "4omI5pSMKXvQ"
      }
    },
    {
      "cell_type": "code",
      "source": [
        "filename = \"PAM250.txt\"\n",
        "rootpath = \"/content/drive/MyDrive/Coursera/Month3/Week2/\"\n",
        "filepath = rootpath+filename\n",
        "with open(filepath, \"r\") as file:\n",
        "  raw = file.read().splitlines()\n",
        "\n",
        "raw"
      ],
      "metadata": {
        "id": "gRNtDyuWlb68"
      },
      "execution_count": null,
      "outputs": []
    },
    {
      "cell_type": "code",
      "source": [
        "PAM250Map = [x.split() for x in raw]\n",
        "print(PAM250Map)"
      ],
      "metadata": {
        "id": "FUM6ZXC_lhxH"
      },
      "execution_count": null,
      "outputs": []
    },
    {
      "cell_type": "code",
      "source": [
        "PAM250MapValue = [x[1:] for x in PAM250Map[1:]]\n",
        "print(PAM250MapValue)"
      ],
      "metadata": {
        "id": "M6HYMMKpln6D"
      },
      "execution_count": null,
      "outputs": []
    },
    {
      "cell_type": "code",
      "source": [
        "PAM250 = pd.DataFrame(PAM250MapValue, columns = PAM250Map[0], index = PAM250Map[0])\n",
        "PAM250"
      ],
      "metadata": {
        "id": "P2y9GqUZlt-W"
      },
      "execution_count": null,
      "outputs": []
    },
    {
      "cell_type": "markdown",
      "source": [
        "#### def LocalAlignment(seq1, seq2)"
      ],
      "metadata": {
        "id": "h2nwg9YQKgR1"
      }
    },
    {
      "cell_type": "code",
      "source": [
        "def LocalAlignment(seq1, seq2):\n",
        "  def ScoreMap(v, w):\n",
        "    scores = [[0] * (len(w)+1) for _ in range(len(v)+1)]\n",
        "    for i in range(1, len(v)+1):\n",
        "      for j in range(1, len(w)+1):\n",
        "        scores[i][j] = PAM250.loc[v[i-1], w[j-1]]\n",
        "    return scores\n",
        "\n",
        "  def BackTrackWithScore(v, w, score_map):\n",
        "    Backtrack = [['0'] * (len(w)+1) for _ in range(len(v)+1)]\n",
        "    scores = [[0] * (len(w)+1) for _ in range(len(v)+1)]\n",
        "    max_score = 0\n",
        "    location = [-1, -1]\n",
        "    for i in range(1, len(v)+1):\n",
        "      for j in range(1, len(w)+1):\n",
        "        # point = 0\n",
        "        # if v[i-1] == w[j-1]:\n",
        "        #   point = int(ScoreMap(v, w)[i][j])\n",
        "        #   print(i, j, point)\n",
        "        point = 0\n",
        "        if v[i-1] == w[j-1]:\n",
        "          point = int(score_map[i][j])\n",
        "        scores[i][j] = max(0, scores[i-1][j] - 5, scores[i][j-1] - 5, scores[i-1][j-1] + point)\n",
        "        if scores[i][j] > max_score:\n",
        "          max_score = scores[i][j]\n",
        "          location = [i, j]\n",
        "        if scores[i][j] == 0:\n",
        "          Backtrack[i][j] = '.'\n",
        "        elif scores[i][j] == (scores[i][j-1] -5):\n",
        "          Backtrack[i][j] = '→'\n",
        "        elif scores[i][j] == (scores[i-1][j] - 5):\n",
        "          Backtrack[i][j] = '↓'\n",
        "        elif scores[i][j] == (scores[i-1][j-1] + point):\n",
        "          Backtrack[i][j] = '↘'\n",
        "    return Backtrack, scores, max_score, location\n",
        "\n",
        "  def OutputLCS(backtrack, v, w, location):\n",
        "    i = location[0]\n",
        "    j = location[1]\n",
        "    LCS_1 = \"\"\n",
        "    LCS_2 = \"\"\n",
        "    while i >=0 and j >= 0:\n",
        "      if (i-1) >= 0:\n",
        "        add_1 = v[i-1]\n",
        "      else:\n",
        "        if j>0: \n",
        "          add_1 = \"-\"\n",
        "        else: \n",
        "          add_1 = \"\"\n",
        "\n",
        "      if (j-1) >= 0:\n",
        "        add_2 = w[j-1]\n",
        "      else:\n",
        "        if i>0: \n",
        "          add_2 = \"-\"\n",
        "        else: \n",
        "          add_2 = \"\"\n",
        "\n",
        "      if backtrack[i][j] == \".\":\n",
        "        break\n",
        "      elif backtrack[i][j] == \"↓\":\n",
        "        LCS_2 += \"-\"\n",
        "        LCS_1 += add_1\n",
        "        i -= 1\n",
        "      elif backtrack[i][j] == \"→\":\n",
        "        LCS_2 += add_2\n",
        "        LCS_1 += \"-\"\n",
        "        j -= 1\n",
        "      elif backtrack[i][j] == \"↘\":\n",
        "        LCS_1 += add_1\n",
        "        LCS_2 += add_2\n",
        "        i -= 1\n",
        "        j -= 1\n",
        "      else:\n",
        "        LCS_1 += add_1\n",
        "        LCS_2 += add_2\n",
        "        j -= 1\n",
        "        i -= 1\n",
        "    return LCS_1[::-1], LCS_2[::-1]\n",
        "\n",
        "  def display_path(v, w, score_map):\n",
        "    backtrack_input, _, __, ___ = BackTrackWithScore(v, w, score_map)\n",
        "    backtrack_input = backtrack_input[1:]\n",
        "    backtrack_input = [x[1:] for x in backtrack_input]\n",
        "    output_df = pd.DataFrame(backtrack_input, index = [x for x in v], columns = [x for x in w])\n",
        "    return output_df\n",
        "\n",
        "  score_map = ScoreMap(seq1, seq2)\n",
        "  print(display_path(seq1, seq2, score_map))\n",
        "  backtrack, scores, max_score, location = BackTrackWithScore(seq1, seq2, score_map)\n",
        "  output_1, output_2 = OutputLCS(backtrack, seq1, seq2, location)\n",
        "  # print(score[-1][-1])\n",
        "\n",
        "  print(\"Exported Score map to temp_score_map.txt: \")\n",
        "  filename_ = \"temp_score_map.txt\"\n",
        "  rootpath_ = \"/content/drive/MyDrive/Coursera/Month3/Week2/\"\n",
        "  filepath_ = rootpath_+filename_\n",
        "  with open(filepath_, mode='w', encoding=\"utf-8-sig\") as file:\n",
        "    for x in scores:\n",
        "      x = ', '.join(str(e) for e in x)\n",
        "      file.write(x+\"\\n\")\n",
        "\n",
        "  # temp_score_map = pd.DataFrame(scores, columns = list(seq2), index = list(seq1))\n",
        "  # filename_ = \"temp_score_map.csv\"\n",
        "  # rootpath_ = \"/content/drive/MyDrive/Coursera/Month3/Week2/\"\n",
        "  # filepath_ = rootpath_+filename_\n",
        "  # temp_score_map.to_csv(filepath_)\n",
        "                         \n",
        "  print(\"Output 1: \",output_1)\n",
        "  print(\"Output 2: \",output_2)\n",
        "  return max_score, output_1, output_2"
      ],
      "metadata": {
        "id": "EbqwIFF4a-MS"
      },
      "execution_count": null,
      "outputs": []
    },
    {
      "cell_type": "markdown",
      "source": [
        "#### Run Example dataset"
      ],
      "metadata": {
        "id": "JAxkDtUCKmhy"
      }
    },
    {
      "cell_type": "code",
      "source": [
        "seq1 = \"MEANLY\"\n",
        "seq2 = \"PENALTY\"\n",
        "ScoreMapGlobal(seq1, seq2, PAM250)"
      ],
      "metadata": {
        "id": "qb8GdX-OSSHz"
      },
      "execution_count": null,
      "outputs": []
    },
    {
      "cell_type": "code",
      "source": [
        "LocalAlignment(seq1, seq2)"
      ],
      "metadata": {
        "id": "UlR_mO2Og67W"
      },
      "execution_count": null,
      "outputs": []
    },
    {
      "cell_type": "markdown",
      "source": [
        "```\n",
        "      M  E  A  N  L   Y\n",
        "  [0, 0, 0, 0, 0, 0,  0]\n",
        "P [0, 0, 0, 1, 0, 0,  0]\n",
        "E [0, 0, 4, 0, 2, 0,  0]\n",
        "N [0, 0, 1, 4, 2, 0,  0]\n",
        "A [0, 0, 0, 3, 4, 0,  0]\n",
        "L [0, 4, 0, 0, 0, 10, 5]\n",
        "T [0, 0, 4, 1, 0, 5,  7]\n",
        "Y [0, 0, 0, 1, 0, 0,  15]\n",
        "```\n",
        "\n"
      ],
      "metadata": {
        "id": "Nq8WIQfNjsp2"
      }
    },
    {
      "cell_type": "markdown",
      "source": [
        "#### Run Extradataset"
      ],
      "metadata": {
        "id": "xFm9L6uaKrTj"
      }
    },
    {
      "cell_type": "code",
      "source": [
        "filename = \"extradataset_1_2_2.txt\"\n",
        "rootpath = \"/content/drive/MyDrive/Coursera/Month3/Week2/\"\n",
        "filepath = rootpath+filename\n",
        "with open(filepath, mode='r', encoding=\"utf-8-sig\") as file:\n",
        "  raw = file.read().splitlines()\n",
        "\n",
        "seq1 = raw[0]\n",
        "seq2 = raw[1]\n",
        "score_test = raw[2]\n",
        "output_1_test = raw[3]\n",
        "output_2_test = raw[4]\n",
        "\n",
        "print(seq1)\n",
        "print(seq2)\n",
        "print(score_test)\n",
        "print(output_1_test)\n",
        "print(output_2_test)\n",
        "print(len(output_1_test))"
      ],
      "metadata": {
        "id": "TjIDGRqqh2Va"
      },
      "execution_count": null,
      "outputs": []
    },
    {
      "cell_type": "code",
      "source": [
        "score, output_1, output_2 = LocalAlignment(seq1, seq2)"
      ],
      "metadata": {
        "id": "qMK0WEwWLN01"
      },
      "execution_count": null,
      "outputs": []
    },
    {
      "cell_type": "code",
      "source": [
        "len(output_1)"
      ],
      "metadata": {
        "id": "CPCDsleRW0m2"
      },
      "execution_count": null,
      "outputs": []
    },
    {
      "cell_type": "code",
      "source": [
        "if int(score) == int(score_test): print(\"Score correct\")\n",
        "else: print(\"Score incorrect\")\n",
        "if output_1 == output_1_test: print(\"Output 1 correct\")\n",
        "else: print(\"Output 1 incorrect\")\n",
        "if output_2 == output_2_test: print(\"Output 2 correct\")\n",
        "else: print(\"Output 2 incorrect\")"
      ],
      "metadata": {
        "id": "2gOlNiDBLPrk"
      },
      "execution_count": null,
      "outputs": []
    },
    {
      "cell_type": "code",
      "source": [
        ""
      ],
      "metadata": {
        "id": "VvV5bHjKLUE5"
      },
      "execution_count": null,
      "outputs": []
    }
  ]
}